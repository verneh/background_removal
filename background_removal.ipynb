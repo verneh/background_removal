{
  "nbformat": 4,
  "nbformat_minor": 0,
  "metadata": {
    "colab": {
      "name": "background_removal.ipynb",
      "provenance": [],
      "authorship_tag": "ABX9TyOektsWKAuvdKrj2dnGejgH",
      "include_colab_link": true
    },
    "kernelspec": {
      "name": "python3",
      "display_name": "Python 3"
    },
    "language_info": {
      "name": "python"
    },
    "accelerator": "GPU"
  },
  "cells": [
    {
      "cell_type": "markdown",
      "metadata": {
        "id": "view-in-github",
        "colab_type": "text"
      },
      "source": [
        "<a href=\"https://colab.research.google.com/github/verneh/background_removal/blob/main/background_removal.ipynb\" target=\"_parent\"><img src=\"https://colab.research.google.com/assets/colab-badge.svg\" alt=\"Open In Colab\"/></a>"
      ]
    },
    {
      "cell_type": "code",
      "metadata": {
        "colab": {
          "base_uri": "https://localhost:8080/"
        },
        "id": "5I1XHm3_FPub",
        "outputId": "8c7f4fc7-30b6-4f09-c180-3514e4800a40"
      },
      "source": [
        "from google.colab import drive \n",
        "drive.mount('/content/gdrive')"
      ],
      "execution_count": 1,
      "outputs": [
        {
          "output_type": "stream",
          "text": [
            "Mounted at /content/gdrive\n"
          ],
          "name": "stdout"
        }
      ]
    },
    {
      "cell_type": "code",
      "metadata": {
        "colab": {
          "base_uri": "https://localhost:8080/"
        },
        "id": "ncfhblcDGIZp",
        "outputId": "74f369f2-4ea5-47e4-e686-597aece271f9"
      },
      "source": [
        "%cd '/content/gdrive/MyDrive'\n",
        "!git clone https://github.com/Nkap23/background_removal_DL.git"
      ],
      "execution_count": 2,
      "outputs": [
        {
          "output_type": "stream",
          "text": [
            "/content/gdrive/MyDrive\n",
            "fatal: destination path 'background_removal_DL' already exists and is not an empty directory.\n"
          ],
          "name": "stdout"
        }
      ]
    },
    {
      "cell_type": "code",
      "metadata": {
        "id": "uoihFNt9GQTJ"
      },
      "source": [
        "from cv2 import cv2 \n",
        "from PIL import Image"
      ],
      "execution_count": 3,
      "outputs": []
    },
    {
      "cell_type": "code",
      "metadata": {
        "colab": {
          "base_uri": "https://localhost:8080/"
        },
        "id": "Xcn-DFMDIMRQ",
        "outputId": "c12b052d-f1bb-4db7-963e-7bbbb1f0a19f"
      },
      "source": [
        "%cd '/content/gdrive/MyDrive/background_removal_DL/test_data/images'\n",
        "!mkdir u2net_results"
      ],
      "execution_count": 4,
      "outputs": [
        {
          "output_type": "stream",
          "text": [
            "/content/gdrive/MyDrive/background_removal_DL/test_data/images\n",
            "mkdir: cannot create directory ‘u2net_results’: File exists\n"
          ],
          "name": "stdout"
        }
      ]
    },
    {
      "cell_type": "code",
      "metadata": {
        "colab": {
          "base_uri": "https://localhost:8080/"
        },
        "id": "T43L7mLbIWxg",
        "outputId": "c4cbb036-2146-4448-e5c3-59f673c7ca86"
      },
      "source": [
        "%cd '/content/gdrive/MyDrive/background_removal_DL'\n",
        "!python u2net_image.py"
      ],
      "execution_count": 5,
      "outputs": [
        {
          "output_type": "stream",
          "text": [
            "/content/gdrive/MyDrive/background_removal_DL\n",
            "['/content/gdrive/MyDrive/background_removal_DL/test_data/images/input/fox.jpg']\n",
            "...load U2NET---173.6 MB\n",
            "inferencing: fox.jpg\n",
            "/usr/local/lib/python3.7/dist-packages/torch/nn/functional.py:3328: UserWarning: nn.functional.upsample is deprecated. Use nn.functional.interpolate instead.\n",
            "  warnings.warn(\"nn.functional.upsample is deprecated. Use nn.functional.interpolate instead.\")\n",
            "/usr/local/lib/python3.7/dist-packages/torch/nn/functional.py:3458: UserWarning: Default upsampling behavior when mode=bilinear is changed to align_corners=False since 0.4.0. Please specify align_corners=True if the old behavior is desired. See the documentation of nn.Upsample for details.\n",
            "  \"See the documentation of nn.Upsample for details.\".format(mode)\n",
            "/usr/local/lib/python3.7/dist-packages/torch/nn/functional.py:1709: UserWarning: nn.functional.sigmoid is deprecated. Use torch.sigmoid instead.\n",
            "  warnings.warn(\"nn.functional.sigmoid is deprecated. Use torch.sigmoid instead.\")\n"
          ],
          "name": "stdout"
        }
      ]
    },
    {
      "cell_type": "code",
      "metadata": {
        "id": "WEN0srW3IlCI"
      },
      "source": [
        "# Bitwise subtraction of the original image and u2net result\n",
        "u2netresult=cv2.imread('/content/gdrive/MyDrive/background_removal_DL/test_data/images/u2net_results/fox.png')\n",
        "#orginalimage (CHANGE FILE EXTENSION HERE - BY DEFAULT: .jpg)\n",
        "original=cv2.imread('/content/gdrive/MyDrive/background_removal_DL/test_data/images/input/fox.jpg')\n",
        "#subimage\n",
        "subimage=cv2.subtract(u2netresult,original)\n",
        "cv2.imwrite('/content/gdrive/MyDrive/background_removal_DL/test_data/images/output/output.png',subimage)\n"
      ],
      "execution_count": null,
      "outputs": []
    },
    {
      "cell_type": "code",
      "metadata": {
        "id": "4R2uX9g_LW6t"
      },
      "source": [
        "# Extract main object/image\n",
        "subimage=Image.open('/content/gdrive/MyDrive/background_removal_DL/test_data/images/output/output.png')\n",
        "#originalimage\n",
        "original=Image.open('/content/gdrive/MyDrive/background_removal_DL/test_data/images/input/fox.jpg')\n",
        "\n",
        "subimage=subimage.convert(\"RGBA\")\n",
        "original=original.convert(\"RGBA\")\n",
        "\n",
        "subdata=subimage.getdata()\n",
        "ogdata=original.getdata()\n",
        "\n",
        "newdata=[]\n",
        "for i in range(subdata.size[0]*subdata.size[1]):\n",
        "  if subdata[i][0]==0 and subdata[i][1]==0 and subdata[i][2]==0:\n",
        "    newdata.append((255,255,255,0))\n",
        "  else:\n",
        "    newdata.append(ogdata[i])\n",
        "subimage.putdata(newdata)\n",
        "subimage.save('/content/gdrive/MyDrive/background_removal_DL/test_data/images/output/output.png',\"PNG\")"
      ],
      "execution_count": 10,
      "outputs": []
    },
    {
      "cell_type": "code",
      "metadata": {
        "colab": {
          "base_uri": "https://localhost:8080/"
        },
        "id": "Cs3xPPjCLqtq",
        "outputId": "194c8ec7-b227-4d7f-90ed-02d74b64694f"
      },
      "source": [
        "%cd '/content/gdrive/MyDrive/background_removal_DL/test_data/images'\n",
        "!rm -R u2net_results"
      ],
      "execution_count": 11,
      "outputs": [
        {
          "output_type": "stream",
          "text": [
            "/content/gdrive/MyDrive/background_removal_DL/test_data/images\n"
          ],
          "name": "stdout"
        }
      ]
    }
  ]
}